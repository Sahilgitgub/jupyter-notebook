{
 "cells": [
  {
   "cell_type": "code",
   "execution_count": 1,
   "metadata": {},
   "outputs": [],
   "source": [
    "#write\n",
    "f=open('sample.txt','w')\n",
    "f.write('hello world\\n')\n",
    "f.write('python.com')\n",
    "f.close()"
   ]
  },
  {
   "cell_type": "code",
   "execution_count": 37,
   "metadata": {},
   "outputs": [],
   "source": [
    "#if writelines() is not available\n",
    "f=open('sample.txt','w')\n",
    "ls=['hello world\\n','python programming.in']\n",
    "for i in ls:\n",
    "    f.write(i)\n",
    "f.close()"
   ]
  },
  {
   "cell_type": "code",
   "execution_count": 10,
   "metadata": {},
   "outputs": [],
   "source": [
    "f=open('sample.txt','w')\n",
    "ls=['hello world\\n','python programming @gla']\n",
    "f.writelines(ls)\n",
    "f.close()"
   ]
  },
  {
   "cell_type": "code",
   "execution_count": 38,
   "metadata": {},
   "outputs": [
    {
     "name": "stdout",
     "output_type": "stream",
     "text": [
      "hello world\n",
      "python programming.in\n"
     ]
    }
   ],
   "source": [
    "#read\n",
    "f=open('sample.txt','r')\n",
    "data=f.read()\n",
    "print(data)\n",
    "f.close()"
   ]
  },
  {
   "cell_type": "code",
   "execution_count": 39,
   "metadata": {},
   "outputs": [
    {
     "name": "stdout",
     "output_type": "stream",
     "text": [
      "hello world\n",
      "\n",
      "python programming.in\n"
     ]
    }
   ],
   "source": [
    "#readline()\n",
    "f=open('sample.txt','r')\n",
    "data=f.readline(15)\n",
    "dat=f.readline(25)\n",
    "print(data)\n",
    "print(dat)\n",
    "f.close()\n"
   ]
  },
  {
   "cell_type": "code",
   "execution_count": 40,
   "metadata": {},
   "outputs": [
    {
     "name": "stdout",
     "output_type": "stream",
     "text": [
      "['hello world\\n']\n",
      "['python programming.in']\n"
     ]
    }
   ],
   "source": [
    "#readlines()\n",
    "f=open('sample.txt','r')\n",
    "data=f.readlines(1)\n",
    "dat=f.readlines(12)\n",
    "print(data)\n",
    "print(dat)\n",
    "f.close()"
   ]
  },
  {
   "cell_type": "code",
   "execution_count": 41,
   "metadata": {},
   "outputs": [
    {
     "name": "stdout",
     "output_type": "stream",
     "text": [
      "number of character in a file:33\n"
     ]
    }
   ],
   "source": [
    "#wap to find the number of character in a file....\n",
    "f=open('sample.txt','r')\n",
    "data=f.read()\n",
    "number_of_char=len(data)\n",
    "print(f'number of character in a file:{number_of_char}')\n",
    "f=open('sample2.txt','w')\n",
    "f.write(f'number of character in a file:{number_of_char}')\n",
    "f.close()"
   ]
  },
  {
   "cell_type": "code",
   "execution_count": 44,
   "metadata": {},
   "outputs": [
    {
     "name": "stdout",
     "output_type": "stream",
     "text": [
      "number of alphabets is: 29\n"
     ]
    }
   ],
   "source": [
    "#count number of alphabets only.....\n",
    "f=open('sample.txt')\n",
    "data=f.read()\n",
    "count_alpha=0\n",
    "for i in data:\n",
    "    if(i.isalpha()):\n",
    "        count_alpha+=1\n",
    "print(f'number of alphabets is: {count_alpha}')\n",
    "f.close()"
   ]
  },
  {
   "cell_type": "code",
   "execution_count": 46,
   "metadata": {},
   "outputs": [
    {
     "name": "stdout",
     "output_type": "stream",
     "text": [
      "['hello', 'world', 'python', 'programming.in']\n",
      "programming.in\n"
     ]
    }
   ],
   "source": [
    "#longest word...\n",
    "f=open('sample.txt','r')\n",
    "data=f.read()\n",
    "ls_word=data.split()\n",
    "print(ls_word)\n",
    "ls_word.sort(key=len)\n",
    "print(ls_word[-1])\n",
    "f.close()"
   ]
  },
  {
   "cell_type": "code",
   "execution_count": 47,
   "metadata": {},
   "outputs": [
    {
     "name": "stdout",
     "output_type": "stream",
     "text": [
      "['hello', 'world', 'python', 'programming.in']\n",
      "programming.in\n"
     ]
    }
   ],
   "source": [
    "#longest word...(isme file ko close krne ki need nhi hoti.....with(file_name) as f:)\n",
    "with open('sample.txt')as f:\n",
    "    data=f.read()\n",
    "    ls_word=data.split()\n",
    "    print(ls_word)\n",
    "    ls_word.sort(key=len)\n",
    "    print(ls_word[-1])\n"
   ]
  },
  {
   "cell_type": "code",
   "execution_count": null,
   "metadata": {},
   "outputs": [],
   "source": [
    "#seek: set the cursor location within the file....\n",
    "        #f.seek(position,origin)\n",
    "        #0:-beggining , 1:-current ,2:-last\n",
    "#tell: return the current cursor location.....\n",
    "#split: break the string with seprator....."
   ]
  },
  {
   "cell_type": "code",
   "execution_count": 50,
   "metadata": {},
   "outputs": [
    {
     "name": "stdout",
     "output_type": "stream",
     "text": [
      "current cursor location 4\n"
     ]
    }
   ],
   "source": [
    "#use of tell()\n",
    "f=open('sample.txt','r')\n",
    "data=f.read(4)\n",
    "loc=f.tell()\n",
    "print('current cursor location',loc)\n",
    "f.close()"
   ]
  },
  {
   "cell_type": "code",
   "execution_count": 53,
   "metadata": {},
   "outputs": [],
   "source": [
    "#file in append mode:\n",
    "f=open('sample.txt','a')\n",
    "loc=f.tell()\n",
    "f.write('\\n next line')\n",
    "f.close()"
   ]
  },
  {
   "cell_type": "code",
   "execution_count": 62,
   "metadata": {},
   "outputs": [],
   "source": [
    "#use of seek:\n",
    "f=open('sample.txt','a+')\n",
    "count_alpha=0\n",
    "f.seek(0)\n",
    "data=f.read()\n",
    "for i in data:\n",
    "    if(i.isalpha()):\n",
    "        count_alpha+=1\n",
    "f=open('sample2.txt','w')\n",
    "f.write(f'total number of alphabets::{count_alpha}')\n",
    "f.close()"
   ]
  }
 ],
 "metadata": {
  "kernelspec": {
   "display_name": "Python 3",
   "language": "python",
   "name": "python3"
  },
  "language_info": {
   "codemirror_mode": {
    "name": "ipython",
    "version": 3
   },
   "file_extension": ".py",
   "mimetype": "text/x-python",
   "name": "python",
   "nbconvert_exporter": "python",
   "pygments_lexer": "ipython3",
   "version": "3.10.9 (tags/v3.10.9:1dd9be6, Dec  6 2022, 20:01:21) [MSC v.1934 64 bit (AMD64)]"
  },
  "orig_nbformat": 4,
  "vscode": {
   "interpreter": {
    "hash": "854ad7b50770bedaf0cab730b1aaabb765566ea98036f134b639e260bede141e"
   }
  }
 },
 "nbformat": 4,
 "nbformat_minor": 2
}
